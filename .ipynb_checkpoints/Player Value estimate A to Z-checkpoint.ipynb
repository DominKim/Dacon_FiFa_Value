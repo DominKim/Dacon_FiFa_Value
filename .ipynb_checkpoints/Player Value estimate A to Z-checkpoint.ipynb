{
 "cells": [
  {
   "cell_type": "markdown",
   "metadata": {},
   "source": [
    "# 1. Dataset load"
   ]
  },
  {
   "cell_type": "code",
   "execution_count": 1,
   "metadata": {},
   "outputs": [],
   "source": [
    "import pandas as pd\n",
    "import matplotlib.pyplot as plt\n",
    "import seaborn as sns\n",
    "from xgboost import XGBRegressor\n",
    "from xgboost import plot_importance\n",
    "from sklearn.ensemble import RandomForestRegressor\n",
    "from sklearn.linear_model import LinearRegression\n",
    "from sklearn.svm import SVC\n",
    "from sklearn.naive_bayes import GaussianNB\n",
    "from sklearn.preprocessing import StandardScaler, MinMaxScaler, RobustScaler\n",
    "from sklearn.metrics import r2_score, mean_squared_error\n",
    "from sklearn.tree import DecisionTreeRegressor\n",
    "from sklearn.model_selection import GridSearchCV, train_test_split, cross_val_score, StratifiedKFold, learning_curve\n",
    "from sklearn.pipeline import Pipeline\n",
    "from scipy import stats\n",
    "from scipy.stats import norm, skew\n",
    "\n",
    "# train / test set load\n",
    "train = pd.read_csv(\"../FIFA_train.csv\")\n",
    "test = pd.read_csv(\"../FIFA_test.csv\")\n"
   ]
  },
  {
   "cell_type": "code",
   "execution_count": 2,
   "metadata": {},
   "outputs": [
    {
     "name": "stdout",
     "output_type": "stream",
     "text": [
      "<class 'pandas.core.frame.DataFrame'>\n",
      "RangeIndex: 8932 entries, 0 to 8931\n",
      "Data columns (total 12 columns):\n",
      " #   Column            Non-Null Count  Dtype  \n",
      "---  ------            --------------  -----  \n",
      " 0   id                8932 non-null   int64  \n",
      " 1   name              8932 non-null   object \n",
      " 2   age               8932 non-null   int64  \n",
      " 3   continent         8932 non-null   object \n",
      " 4   contract_until    8932 non-null   object \n",
      " 5   position          8932 non-null   object \n",
      " 6   prefer_foot       8932 non-null   object \n",
      " 7   reputation        8932 non-null   float64\n",
      " 8   stat_overall      8932 non-null   int64  \n",
      " 9   stat_potential    8932 non-null   int64  \n",
      " 10  stat_skill_moves  8932 non-null   float64\n",
      " 11  value             8932 non-null   float64\n",
      "dtypes: float64(3), int64(4), object(5)\n",
      "memory usage: 837.5+ KB\n",
      "<class 'pandas.core.frame.DataFrame'>\n",
      "RangeIndex: 3828 entries, 0 to 3827\n",
      "Data columns (total 11 columns):\n",
      " #   Column            Non-Null Count  Dtype  \n",
      "---  ------            --------------  -----  \n",
      " 0   id                3828 non-null   int64  \n",
      " 1   name              3828 non-null   object \n",
      " 2   age               3828 non-null   int64  \n",
      " 3   continent         3828 non-null   object \n",
      " 4   contract_until    3828 non-null   object \n",
      " 5   position          3828 non-null   object \n",
      " 6   prefer_foot       3828 non-null   object \n",
      " 7   reputation        3828 non-null   float64\n",
      " 8   stat_overall      3828 non-null   int64  \n",
      " 9   stat_potential    3828 non-null   int64  \n",
      " 10  stat_skill_moves  3828 non-null   float64\n",
      "dtypes: float64(2), int64(4), object(5)\n",
      "memory usage: 329.1+ KB\n"
     ]
    }
   ],
   "source": [
    "# dataset info\n",
    "train.info() # (8932, 12)\n",
    "test.info()  # (3828, 11)\n",
    "train.describe()\n",
    "train[\"source\"] = \"train\"\n",
    "test[\"source\"] = \"test\""
   ]
  },
  {
   "cell_type": "code",
   "execution_count": 3,
   "metadata": {},
   "outputs": [
    {
     "data": {
      "text/plain": [
       "0       4.0\n",
       "1       1.0\n",
       "2       3.0\n",
       "3       3.0\n",
       "4       1.0\n",
       "       ... \n",
       "8927    3.0\n",
       "8928    2.0\n",
       "8929    2.0\n",
       "8930    1.0\n",
       "8931    2.0\n",
       "Name: stat_skill_moves, Length: 8932, dtype: float64"
      ]
     },
     "execution_count": 3,
     "metadata": {},
     "output_type": "execute_result"
    }
   ],
   "source": [
    "# dataset check\n",
    "train.head()\n",
    "\n",
    "# 연속형 변수 / 범주형변수 분리\n",
    "'''\n",
    "연속형 변수 : 'age',  'stat_overall', 'stat_potential'\n",
    "범주형 변수 : 'continent', 'contract_until', 'position', 'prefer_foot', 'reputation'\n",
    "'id', 'name', 'value', stat_skill_moves\n",
    "'''\n",
    "train.columns\n",
    "\n",
    "train[\"stat_skill_moves\"]"
   ]
  },
  {
   "cell_type": "code",
   "execution_count": 4,
   "metadata": {},
   "outputs": [
    {
     "data": {
      "text/html": [
       "<div>\n",
       "<style scoped>\n",
       "    .dataframe tbody tr th:only-of-type {\n",
       "        vertical-align: middle;\n",
       "    }\n",
       "\n",
       "    .dataframe tbody tr th {\n",
       "        vertical-align: top;\n",
       "    }\n",
       "\n",
       "    .dataframe thead th {\n",
       "        text-align: right;\n",
       "    }\n",
       "</style>\n",
       "<table border=\"1\" class=\"dataframe\">\n",
       "  <thead>\n",
       "    <tr style=\"text-align: right;\">\n",
       "      <th></th>\n",
       "      <th>value</th>\n",
       "    </tr>\n",
       "    <tr>\n",
       "      <th>contract_until</th>\n",
       "      <th></th>\n",
       "    </tr>\n",
       "  </thead>\n",
       "  <tbody>\n",
       "    <tr>\n",
       "      <th>2018</th>\n",
       "      <td>327</td>\n",
       "    </tr>\n",
       "    <tr>\n",
       "      <th>2019</th>\n",
       "      <td>2366</td>\n",
       "    </tr>\n",
       "    <tr>\n",
       "      <th>2020</th>\n",
       "      <td>2041</td>\n",
       "    </tr>\n",
       "    <tr>\n",
       "      <th>2021</th>\n",
       "      <td>2308</td>\n",
       "    </tr>\n",
       "    <tr>\n",
       "      <th>2022</th>\n",
       "      <td>761</td>\n",
       "    </tr>\n",
       "    <tr>\n",
       "      <th>2023</th>\n",
       "      <td>506</td>\n",
       "    </tr>\n",
       "    <tr>\n",
       "      <th>2024</th>\n",
       "      <td>12</td>\n",
       "    </tr>\n",
       "    <tr>\n",
       "      <th>2025</th>\n",
       "      <td>3</td>\n",
       "    </tr>\n",
       "    <tr>\n",
       "      <th>2026</th>\n",
       "      <td>1</td>\n",
       "    </tr>\n",
       "    <tr>\n",
       "      <th>Dec 31, 2018</th>\n",
       "      <td>64</td>\n",
       "    </tr>\n",
       "    <tr>\n",
       "      <th>Jan 1, 2019</th>\n",
       "      <td>2</td>\n",
       "    </tr>\n",
       "    <tr>\n",
       "      <th>Jan 12, 2019</th>\n",
       "      <td>1</td>\n",
       "    </tr>\n",
       "    <tr>\n",
       "      <th>Jan 31, 2019</th>\n",
       "      <td>10</td>\n",
       "    </tr>\n",
       "    <tr>\n",
       "      <th>Jun 30, 2019</th>\n",
       "      <td>501</td>\n",
       "    </tr>\n",
       "    <tr>\n",
       "      <th>Jun 30, 2020</th>\n",
       "      <td>9</td>\n",
       "    </tr>\n",
       "    <tr>\n",
       "      <th>May 31, 2019</th>\n",
       "      <td>19</td>\n",
       "    </tr>\n",
       "    <tr>\n",
       "      <th>May 31, 2020</th>\n",
       "      <td>1</td>\n",
       "    </tr>\n",
       "  </tbody>\n",
       "</table>\n",
       "</div>"
      ],
      "text/plain": [
       "                value\n",
       "contract_until       \n",
       "2018              327\n",
       "2019             2366\n",
       "2020             2041\n",
       "2021             2308\n",
       "2022              761\n",
       "2023              506\n",
       "2024               12\n",
       "2025                3\n",
       "2026                1\n",
       "Dec 31, 2018       64\n",
       "Jan 1, 2019         2\n",
       "Jan 12, 2019        1\n",
       "Jan 31, 2019       10\n",
       "Jun 30, 2019      501\n",
       "Jun 30, 2020        9\n",
       "May 31, 2019       19\n",
       "May 31, 2020        1"
      ]
     },
     "execution_count": 4,
     "metadata": {},
     "output_type": "execute_result"
    }
   ],
   "source": [
    "import re\n",
    "train[[\"contract_until\", \"value\"]].groupby(\"contract_until\").count()"
   ]
  },
  {
   "cell_type": "code",
   "execution_count": 5,
   "metadata": {},
   "outputs": [],
   "source": [
    "comdata = pd.concat([train, test], ignore_index=True)"
   ]
  },
  {
   "cell_type": "code",
   "execution_count": 6,
   "metadata": {},
   "outputs": [
    {
     "name": "stderr",
     "output_type": "stream",
     "text": [
      "/Users/mac/opt/anaconda3/lib/python3.7/site-packages/ipykernel_launcher.py:9: SettingWithCopyWarning: \n",
      "A value is trying to be set on a copy of a slice from a DataFrame\n",
      "\n",
      "See the caveats in the documentation: https://pandas.pydata.org/pandas-docs/stable/user_guide/indexing.html#returning-a-view-versus-a-copy\n",
      "  if __name__ == '__main__':\n"
     ]
    }
   ],
   "source": [
    "# contract_until 변수 전처리(월, 일 제거)\n",
    "idx = []\n",
    "for i, value in enumerate(comdata[\"contract_until\"]):\n",
    "    if re.match(\"[A-Z]{1,}\", value):\n",
    "        idx.append(i)\n",
    "comdata[\"contract_until\"][idx].replace(\"[A-Z]{1,}[a-z]{2}\", \"\")\n",
    "\n",
    "for i, j in zip(comdata[\"contract_until\"][idx], idx):\n",
    "    comdata[\"contract_until\"][j] = re.sub(\"[A-Z]{1,}[a-z]{2} [0-9]{1,}, \", \"\", i).strip()\n",
    "    \n",
    "# 공백 제거\n",
    "comdata.loc[:, \"contract_until\"] = comdata.loc[:, \"contract_until\"].str.strip()"
   ]
  },
  {
   "cell_type": "code",
   "execution_count": 7,
   "metadata": {},
   "outputs": [
    {
     "name": "stdout",
     "output_type": "stream",
     "text": [
      "               value              \n",
      "               count          mean\n",
      "contract_until                    \n",
      "2018             391  1.286407e+06\n",
      "2019            2899  1.746123e+06\n",
      "2020            2051  2.397036e+06\n",
      "2021            2308  2.827543e+06\n",
      "2022             761  5.899074e+06\n",
      "2023             506  5.802115e+06\n",
      "2024              12  2.450833e+07\n",
      "2025               3  1.405333e+07\n",
      "2026               1  5.050000e+07\n"
     ]
    },
    {
     "data": {
      "image/png": "[encoded data removed]",
      "text/plain": [
       "<Figure size 936x360 with 1 Axes>"
      ]
     },
     "metadata": {
      "needs_background": "light"
     },
     "output_type": "display_data"
    }
   ],
   "source": [
    "# contract_until \n",
    "# 변수에 따라 선수가치가 변하므로 사용!\n",
    "fig = plt.subplots( figsize = (13,5))\n",
    "sns.barplot(x = \"contract_until\", y = \"value\", data = comdata)\n",
    "\n",
    "print(comdata[[\"contract_until\", \"value\"]].groupby([\"contract_until\"]).agg([\"count\", \"mean\"]))\n",
    "comdata.loc[comdata[\"contract_until\"] == \"2025\", \"contract_until\"] = \"2024\"\n",
    "comdata.loc[comdata[\"contract_until\"] == \"2026\", \"contract_until\"] = \"2024\"\n",
    "\n",
    "# 2024년 이상 계약기간의 선수의 수는 작으므로 2024로통일"
   ]
  },
  {
   "cell_type": "code",
   "execution_count": 8,
   "metadata": {},
   "outputs": [
    {
     "data": {
      "text/html": [
       "<div>\n",
       "<style scoped>\n",
       "    .dataframe tbody tr th:only-of-type {\n",
       "        vertical-align: middle;\n",
       "    }\n",
       "\n",
       "    .dataframe tbody tr th {\n",
       "        vertical-align: top;\n",
       "    }\n",
       "\n",
       "    .dataframe thead tr th {\n",
       "        text-align: left;\n",
       "    }\n",
       "\n",
       "    .dataframe thead tr:last-of-type th {\n",
       "        text-align: right;\n",
       "    }\n",
       "</style>\n",
       "<table border=\"1\" class=\"dataframe\">\n",
       "  <thead>\n",
       "    <tr>\n",
       "      <th></th>\n",
       "      <th colspan=\"2\" halign=\"left\">value</th>\n",
       "    </tr>\n",
       "    <tr>\n",
       "      <th></th>\n",
       "      <th>mean</th>\n",
       "      <th>count</th>\n",
       "    </tr>\n",
       "    <tr>\n",
       "      <th>continent</th>\n",
       "      <th></th>\n",
       "      <th></th>\n",
       "    </tr>\n",
       "  </thead>\n",
       "  <tbody>\n",
       "    <tr>\n",
       "      <th>africa</th>\n",
       "      <td>2.972247e+06</td>\n",
       "      <td>721</td>\n",
       "    </tr>\n",
       "    <tr>\n",
       "      <th>asia</th>\n",
       "      <td>1.035146e+06</td>\n",
       "      <td>787</td>\n",
       "    </tr>\n",
       "    <tr>\n",
       "      <th>europe</th>\n",
       "      <td>2.928125e+06</td>\n",
       "      <td>5322</td>\n",
       "    </tr>\n",
       "    <tr>\n",
       "      <th>oceania</th>\n",
       "      <td>8.225429e+05</td>\n",
       "      <td>175</td>\n",
       "    </tr>\n",
       "    <tr>\n",
       "      <th>south america</th>\n",
       "      <td>3.183204e+06</td>\n",
       "      <td>1927</td>\n",
       "    </tr>\n",
       "  </tbody>\n",
       "</table>\n",
       "</div>"
      ],
      "text/plain": [
       "                      value      \n",
       "                       mean count\n",
       "continent                        \n",
       "africa         2.972247e+06   721\n",
       "asia           1.035146e+06   787\n",
       "europe         2.928125e+06  5322\n",
       "oceania        8.225429e+05   175\n",
       "south america  3.183204e+06  1927"
      ]
     },
     "execution_count": 8,
     "metadata": {},
     "output_type": "execute_result"
    },
    {
     "data": {
      "image/png": "[encoded data removed]",
      "text/plain": [
       "<Figure size 432x288 with 1 Axes>"
      ]
     },
     "metadata": {
      "needs_background": "light"
     },
     "output_type": "display_data"
    }
   ],
   "source": [
    "# continent\n",
    "g = sns.barplot(x = \"continent\", y = \"value\", data = comdata)\n",
    "comdata[[\"continent\", \"value\"]].groupby([\"continent\"]).agg([\"mean\", \"count\"])"
   ]
  },
  {
   "cell_type": "code",
   "execution_count": 9,
   "metadata": {},
   "outputs": [
    {
     "data": {
      "text/html": [
       "<div>\n",
       "<style scoped>\n",
       "    .dataframe tbody tr th:only-of-type {\n",
       "        vertical-align: middle;\n",
       "    }\n",
       "\n",
       "    .dataframe tbody tr th {\n",
       "        vertical-align: top;\n",
       "    }\n",
       "\n",
       "    .dataframe thead tr th {\n",
       "        text-align: left;\n",
       "    }\n",
       "\n",
       "    .dataframe thead tr:last-of-type th {\n",
       "        text-align: right;\n",
       "    }\n",
       "</style>\n",
       "<table border=\"1\" class=\"dataframe\">\n",
       "  <thead>\n",
       "    <tr>\n",
       "      <th></th>\n",
       "      <th colspan=\"2\" halign=\"left\">value</th>\n",
       "    </tr>\n",
       "    <tr>\n",
       "      <th></th>\n",
       "      <th>mean</th>\n",
       "      <th>count</th>\n",
       "    </tr>\n",
       "    <tr>\n",
       "      <th>position</th>\n",
       "      <th></th>\n",
       "      <th></th>\n",
       "    </tr>\n",
       "  </thead>\n",
       "  <tbody>\n",
       "    <tr>\n",
       "      <th>DF</th>\n",
       "      <td>2.304348e+06</td>\n",
       "      <td>2791</td>\n",
       "    </tr>\n",
       "    <tr>\n",
       "      <th>GK</th>\n",
       "      <td>1.992073e+06</td>\n",
       "      <td>1008</td>\n",
       "    </tr>\n",
       "    <tr>\n",
       "      <th>MF</th>\n",
       "      <td>3.121762e+06</td>\n",
       "      <td>3428</td>\n",
       "    </tr>\n",
       "    <tr>\n",
       "      <th>ST</th>\n",
       "      <td>3.330361e+06</td>\n",
       "      <td>1705</td>\n",
       "    </tr>\n",
       "  </tbody>\n",
       "</table>\n",
       "</div>"
      ],
      "text/plain": [
       "                 value      \n",
       "                  mean count\n",
       "position                    \n",
       "DF        2.304348e+06  2791\n",
       "GK        1.992073e+06  1008\n",
       "MF        3.121762e+06  3428\n",
       "ST        3.330361e+06  1705"
      ]
     },
     "execution_count": 9,
     "metadata": {},
     "output_type": "execute_result"
    },
    {
     "data": {
      "image/png": "[encoded data removed]",
      "text/plain": [
       "<Figure size 432x288 with 1 Axes>"
      ]
     },
     "metadata": {
      "needs_background": "light"
     },
     "output_type": "display_data"
    }
   ],
   "source": [
    "# position\n",
    "g = sns.barplot(x = \"position\", y = \"value\", data = comdata)\n",
    "comdata[[\"position\", \"value\"]].groupby([\"position\"]).agg([\"mean\", \"count\"])"
   ]
  },
  {
   "cell_type": "code",
   "execution_count": 10,
   "metadata": {},
   "outputs": [
    {
     "name": "stdout",
     "output_type": "stream",
     "text": [
      "                    value      \n",
      "                     mean count\n",
      "prefer_foot                    \n",
      "left         2.865232e+06  2095\n",
      "right        2.752150e+06  6837\n"
     ]
    },
    {
     "data": {
      "image/png": "[encoded data removed]",
      "text/plain": [
       "<Figure size 432x288 with 1 Axes>"
      ]
     },
     "metadata": {
      "needs_background": "light"
     },
     "output_type": "display_data"
    }
   ],
   "source": [
    "# prefer_foot\n",
    "g = sns.barplot(x = \"prefer_foot\", y = \"value\", data = comdata)\n",
    "print(comdata[[\"prefer_foot\", \"value\"]].groupby([\"prefer_foot\"]).agg([\"mean\", \"count\"]))\n",
    "\n",
    "# ttest로 평균차이 확인\n",
    "prefter_left = comdata.loc[comdata[\"prefer_foot\"] == \"left\", \"value\"]\n",
    "prefter_left = prefter_left.dropna()\n",
    "\n",
    "prefter_right = comdata.loc[comdata[\"prefer_foot\"] == \"right\", \"value\"]\n",
    "prefter_right = prefter_right.dropna()\n",
    "\n",
    "stats.ttest_ind(prefter_left, prefter_right)\n",
    "# pvalue > 0.05, 왼발과 오른발에는 평균에는 차이가 없다.\n",
    "# 오른발 = 0, 왼발 = 1로 분류\n",
    "comdata[\"prefer_foot\"] = comdata[\"prefer_foot\"].replace([\"right\", \"left\"], [0, 1])"
   ]
  },
  {
   "cell_type": "code",
   "execution_count": 11,
   "metadata": {
    "scrolled": false
   },
   "outputs": [
    {
     "name": "stdout",
     "output_type": "stream",
     "text": [
      "                   value      \n",
      "                    mean count\n",
      "reputation                    \n",
      "1.0         1.690092e+06  8014\n",
      "2.0         8.639221e+06   706\n",
      "3.0         2.201483e+07   177\n",
      "4.0         3.342903e+07    31\n",
      "5.0         6.062500e+07     4\n",
      "[5. 4. 3. 1. 2.]\n"
     ]
    },
    {
     "data": {
      "image/png": "[encoded data removed]",
      "text/plain": [
       "<Figure size 432x288 with 1 Axes>"
      ]
     },
     "metadata": {
      "needs_background": "light"
     },
     "output_type": "display_data"
    }
   ],
   "source": [
    "# reputation\n",
    "g = sns.barplot(x = \"reputation\", y = \"value\", data = comdata)\n",
    "print(comdata[[\"reputation\", \"value\"]].groupby([\"reputation\"]).agg([\"mean\", \"count\"]))\n",
    "print(comdata[\"reputation\"].unique())\n",
    "comdata[\"reputation\"] = comdata[\"reputation\"].astype(\"category\")"
   ]
  },
  {
   "cell_type": "code",
   "execution_count": 12,
   "metadata": {},
   "outputs": [
    {
     "data": {
      "image/png": "[encoded data removed]",
      "text/plain": [
       "<Figure size 432x288 with 1 Axes>"
      ]
     },
     "metadata": {
      "needs_background": "light"
     },
     "output_type": "display_data"
    }
   ],
   "source": [
    "# stat_skill_moves\n",
    "g = sns.barplot(x = \"stat_skill_moves\", y = \"value\", data = comdata)\n",
    "comdata[\"stat_skill_moves\"] = comdata[\"stat_skill_moves\"].astype(\"category\")"
   ]
  },
  {
   "cell_type": "code",
   "execution_count": 13,
   "metadata": {
    "scrolled": true
   },
   "outputs": [
    {
     "data": {
      "text/plain": [
       "<Figure size 576x432 with 0 Axes>"
      ]
     },
     "metadata": {},
     "output_type": "display_data"
    },
    {
     "data": {
      "image/png": "[encoded data removed]",
      "text/plain": [
       "<Figure size 360x360 with 1 Axes>"
      ]
     },
     "metadata": {
      "needs_background": "light"
     },
     "output_type": "display_data"
    },
    {
     "data": {
      "image/png": "[encoded data removed]",
      "text/plain": [
       "<Figure size 360x360 with 1 Axes>"
      ]
     },
     "metadata": {
      "needs_background": "light"
     },
     "output_type": "display_data"
    },
    {
     "data": {
      "image/png": "[encoded data removed]",
      "text/plain": [
       "<Figure size 360x360 with 1 Axes>"
      ]
     },
     "metadata": {
      "needs_background": "light"
     },
     "output_type": "display_data"
    },
    {
     "data": {
      "image/png": "[encoded data removed]",
      "text/plain": [
       "<Figure size 576x432 with 3 Axes>"
      ]
     },
     "metadata": {
      "needs_background": "light"
     },
     "output_type": "display_data"
    }
   ],
   "source": [
    "# 연속형변수 확인\n",
    "# 'age', 'stat_overall', 'stat_potential'\n",
    "# 스케일링\n",
    "ind_idx_num = ['stat_overall', 'stat_potential', \"age\"]\n",
    "de_idx = \"value\"\n",
    "\n",
    "\n",
    "plt.figure(figsize  = (8, 6))\n",
    "for i in ind_idx_num:\n",
    "    sns.lmplot(x = i, y = \"value\", data = comdata)\n",
    "    sns.distplot(comdata[i], fit = norm)\n",
    "\n",
    "fig, ax = plt.subplots(ncols = 3, figsize  = (8, 6))\n",
    "\n",
    "for i, j in enumerate(ind_idx_num):\n",
    "    sns.boxplot(x = comdata[j], ax = ax[i])\n",
    "# 다수의 이상치 존재"
   ]
  },
  {
   "cell_type": "code",
   "execution_count": 14,
   "metadata": {
    "scrolled": true
   },
   "outputs": [],
   "source": [
    "# 회귀분석에 필요하지 않는 변수 제거\n",
    "# id, name drop\n",
    "comdata.drop(labels = [\"id\", \"name\"], axis = 1, inplace=True)"
   ]
  },
  {
   "cell_type": "code",
   "execution_count": 15,
   "metadata": {},
   "outputs": [],
   "source": [
    "#  train, test set 분리\n",
    "train = comdata[comdata[\"source\"] == \"train\"].drop(\"source\", axis=1)\n",
    "real_test = comdata[comdata[\"source\"] == \"test\"].drop(\"source\", axis=1)\n",
    "\n",
    "# 이상치는 RobustScaler 활용을 통해 표준화해서 값 사용\n",
    "scaler = RobustScaler()\n",
    "scaled = scaler.fit_transform(train[[\"stat_overall\", \"stat_potential\", \"age\"]])\n",
    "\n",
    "train[\"stat_overall\"] = scaled[:,0]\n",
    "train[\"stat_potential\"] = scaled[:,1]\n",
    "train[\"age\"] = scaled[:,2]\n",
    "\n",
    "scaled_rel = scaler.transform(real_test[[\"stat_overall\", \"stat_potential\", \"age\"]])\n",
    "\n",
    "real_test[\"stat_overall\"] = scaled_rel[:,0]\n",
    "real_test[\"stat_potential\"] = scaled_rel[:,1]\n",
    "real_test[\"age\"] = scaled_rel[:,2]"
   ]
  },
  {
   "cell_type": "code",
   "execution_count": 16,
   "metadata": {},
   "outputs": [],
   "source": [
    "# One-Hot-encoding 더미변수 생성\n",
    "train_dummy = pd.get_dummies(train)\n",
    "real_test_dummy = pd.get_dummies(real_test)"
   ]
  },
  {
   "cell_type": "code",
   "execution_count": 17,
   "metadata": {},
   "outputs": [],
   "source": [
    "# 독립변수, 종속변수 분리\n",
    "col = train_dummy.columns\n",
    "y_col = \"value\"\n",
    "x_col = [i for i in col if i != y_col]\n",
    "\n",
    "# train /test set split\n",
    "x_train, x_test, y_train, y_test = train_test_split(train_dummy[x_col], train_dummy[y_col], test_size = 0.3)\n"
   ]
  },
  {
   "cell_type": "code",
   "execution_count": 71,
   "metadata": {
    "scrolled": true
   },
   "outputs": [
    {
     "name": "stderr",
     "output_type": "stream",
     "text": [
      "/Users/mac/opt/anaconda3/lib/python3.7/site-packages/sklearn/model_selection/_split.py:667: UserWarning: The least populated class in y has only 1 members, which is less than n_splits=10.\n",
      "  % (min_groups, self.n_splits)), UserWarning)\n",
      "/Users/mac/opt/anaconda3/lib/python3.7/site-packages/sklearn/model_selection/_split.py:667: UserWarning: The least populated class in y has only 1 members, which is less than n_splits=10.\n",
      "  % (min_groups, self.n_splits)), UserWarning)\n",
      "/Users/mac/opt/anaconda3/lib/python3.7/site-packages/sklearn/model_selection/_split.py:667: UserWarning: The least populated class in y has only 1 members, which is less than n_splits=10.\n",
      "  % (min_groups, self.n_splits)), UserWarning)\n",
      "/Users/mac/opt/anaconda3/lib/python3.7/site-packages/sklearn/model_selection/_split.py:667: UserWarning: The least populated class in y has only 1 members, which is less than n_splits=10.\n",
      "  % (min_groups, self.n_splits)), UserWarning)\n",
      "/Users/mac/opt/anaconda3/lib/python3.7/site-packages/sklearn/model_selection/_split.py:667: UserWarning: The least populated class in y has only 1 members, which is less than n_splits=10.\n",
      "  % (min_groups, self.n_splits)), UserWarning)\n",
      "/Users/mac/opt/anaconda3/lib/python3.7/site-packages/sklearn/model_selection/_split.py:667: UserWarning: The least populated class in y has only 1 members, which is less than n_splits=10.\n",
      "  % (min_groups, self.n_splits)), UserWarning)\n"
     ]
    },
    {
     "data": {
      "image/png": "[encoded data removed]",
      "text/plain": [
       "<Figure size 432x288 with 1 Axes>"
      ]
     },
     "metadata": {
      "needs_background": "light"
     },
     "output_type": "display_data"
    }
   ],
   "source": [
    "# Modeling differents algorithms. \n",
    "kfold = StratifiedKFold(n_splits=10)\n",
    "random_state = 2\n",
    "regressors = []\n",
    "\n",
    "regressors.append(LinearRegression())\n",
    "regressors.append(SVC(kernel=\"linear\", random_state = random_state))\n",
    "regressors.append(DecisionTreeRegressor(random_state=random_state))\n",
    "regressors.append(RandomForestRegressor(random_state=random_state))\n",
    "regressors.append(XGBRegressor(random_state=random_state))\n",
    "regressors.append(GaussianNB())\n",
    "\n",
    "\n",
    "cv_results = []\n",
    "for regressor in regressors :\n",
    "    cv_results.append(cross_val_score(regressor, x_train, y = y_train, cv = kfold, n_jobs=4, scoring=\"neg_mean_squared_error\"))\n",
    "\n",
    "cv_means = []\n",
    "cv_std = []\n",
    "for cv_result in cv_results:\n",
    "    cv_means.append(cv_result.mean())\n",
    "    cv_std.append(cv_result.std())\n",
    "\n",
    "cv_res = pd.DataFrame({\"CrossValMeans\":cv_means,\"CrossValerrors\": cv_std,\n",
    "                       \"Algorithm\":[\"LinearRegression\",\n",
    "                                    \"SVC\",\n",
    "                                    \"DecisionTreeRegressor\",\n",
    "                                    \"RandomForestRegressor\",\n",
    "                                    \"XGBRegressor\",\n",
    "                                    \"GaussianNB\",]})\n",
    "\n",
    "g = sns.barplot(\"CrossValMeans\",\"Algorithm\",data = cv_res, palette=\"Set3\",orient = \"h\")\n",
    "g.set_xlabel(\"Mean Accuracy\")\n",
    "g = g.set_title(\"Cross validation scores\")"
   ]
  },
  {
   "cell_type": "code",
   "execution_count": 77,
   "metadata": {},
   "outputs": [
    {
     "data": {
      "text/html": [
       "<div>\n",
       "<style scoped>\n",
       "    .dataframe tbody tr th:only-of-type {\n",
       "        vertical-align: middle;\n",
       "    }\n",
       "\n",
       "    .dataframe tbody tr th {\n",
       "        vertical-align: top;\n",
       "    }\n",
       "\n",
       "    .dataframe thead th {\n",
       "        text-align: right;\n",
       "    }\n",
       "</style>\n",
       "<table border=\"1\" class=\"dataframe\">\n",
       "  <thead>\n",
       "    <tr style=\"text-align: right;\">\n",
       "      <th></th>\n",
       "      <th>CrossValMeans</th>\n",
       "      <th>CrossValerrors</th>\n",
       "      <th>Algorithm</th>\n",
       "    </tr>\n",
       "  </thead>\n",
       "  <tbody>\n",
       "    <tr>\n",
       "      <th>0</th>\n",
       "      <td>-1.112615e+13</td>\n",
       "      <td>2.516829e+12</td>\n",
       "      <td>LinearRegression</td>\n",
       "    </tr>\n",
       "    <tr>\n",
       "      <th>1</th>\n",
       "      <td>-5.109034e+12</td>\n",
       "      <td>1.446614e+12</td>\n",
       "      <td>SVC</td>\n",
       "    </tr>\n",
       "    <tr>\n",
       "      <th>2</th>\n",
       "      <td>-1.804033e+12</td>\n",
       "      <td>1.536349e+12</td>\n",
       "      <td>DecisionTreeRegressor</td>\n",
       "    </tr>\n",
       "    <tr>\n",
       "      <th>3</th>\n",
       "      <td>-1.033246e+12</td>\n",
       "      <td>8.218295e+11</td>\n",
       "      <td>RandomForestRegressor</td>\n",
       "    </tr>\n",
       "    <tr>\n",
       "      <th>4</th>\n",
       "      <td>-6.802111e+11</td>\n",
       "      <td>4.466274e+11</td>\n",
       "      <td>XGBRegressor</td>\n",
       "    </tr>\n",
       "    <tr>\n",
       "      <th>5</th>\n",
       "      <td>-2.143955e+13</td>\n",
       "      <td>5.302654e+12</td>\n",
       "      <td>GaussianNB</td>\n",
       "    </tr>\n",
       "  </tbody>\n",
       "</table>\n",
       "</div>"
      ],
      "text/plain": [
       "   CrossValMeans  CrossValerrors              Algorithm\n",
       "0  -1.112615e+13    2.516829e+12       LinearRegression\n",
       "1  -5.109034e+12    1.446614e+12                    SVC\n",
       "2  -1.804033e+12    1.536349e+12  DecisionTreeRegressor\n",
       "3  -1.033246e+12    8.218295e+11  RandomForestRegressor\n",
       "4  -6.802111e+11    4.466274e+11           XGBRegressor\n",
       "5  -2.143955e+13    5.302654e+12             GaussianNB"
      ]
     },
     "execution_count": 77,
     "metadata": {},
     "output_type": "execute_result"
    },
    {
     "data": {
      "image/png": "[encoded data removed]",
      "text/plain": [
       "<Figure size 432x288 with 1 Axes>"
      ]
     },
     "metadata": {
      "needs_background": "light"
     },
     "output_type": "display_data"
    }
   ],
   "source": [
    "cv_res"
   ]
  },
  {
   "cell_type": "code",
   "execution_count": null,
   "metadata": {},
   "outputs": [],
   "source": [
    "# 기본 pipe 생성\n",
    "pipe = Pipeline([(\"regressor\", RandomForestRegressor())])\n",
    "\n",
    "# paramgrid\n",
    "param_grid = [{\"regressor\":[RandomForestRegressor()], \"regressor__n_estimators\":[100,200,300],\n",
    "             \"regressor__max_depth\":[3,6,8], \"regressor__min_samples_split\":[2,3,4,5], \"regressor__min_samples_leaf\": [1,3,5,7]},\n",
    "             {\"regressor\":[XGBRegressor()], \"regressor__colsample_bylevel\":[0.6,0.8,1], \"regressor__learning_rate\":[0.01,0.1],\n",
    "             \"regressor__max_depth\":[3,6,8], \"regressor__min_child_weight\":[1,3], \"regressor__n_estimators\":[100,200,300]}]\n",
    "\n",
    "\n",
    "# eval_set = [(x_test, y_test)], eval_metric = \"rmse\", verbose = True\n",
    "# eval_set : ensamble 모형에서 사용\n",
    "gs = GridSearchCV(pipe, param_grid, cv = 5, n_jobs=-1, scoring = \"neg_mean_squared_error\")\n",
    "\n",
    "model = gs.fit(x_train, y_train)"
   ]
  },
  {
   "cell_type": "code",
   "execution_count": null,
   "metadata": {
    "scrolled": true
   },
   "outputs": [],
   "source": [
    "# model score & best_parameter\n",
    "print(model.best_score_)\n",
    "print(model.best_estimator_)\n",
    "y_pred = model.predict(x_test)\n",
    "y_true = y_test\n",
    "print(mean_squared_error(y_true, y_pred, squared = \"False\"))"
   ]
  },
  {
   "cell_type": "code",
   "execution_count": 23,
   "metadata": {
    "scrolled": true
   },
   "outputs": [
    {
     "name": "stdout",
     "output_type": "stream",
     "text": [
      "0.9965725333309372\n",
      "0.9688665383620588\n",
      "rmse score : 1330987992728.7683\n"
     ]
    }
   ],
   "source": [
    "# 모델기반 특성 선택\n",
    "from sklearn.feature_selection import SelectFromModel\n",
    "\n",
    "# GridSearch로 찾은 best parameter로 모델 생성 및 fit\n",
    "select = SelectFromModel(XGBRegressor(base_score=0.5, booster='gbtree',\n",
    "                              colsample_bylevel=0.6, colsample_bynode=1,\n",
    "                              colsample_bytree=1, gamma=0, gpu_id=-1,\n",
    "                              importance_type='gain',\n",
    "                              interaction_constraints='', learning_rate=0.1,\n",
    "                              max_delta_step=0, max_depth=3, min_child_weight=3,\n",
    "                              n_estimators=300, n_jobs=0, num_parallel_tree=1,\n",
    "                              objective='reg:squarederror', random_state=0,\n",
    "                              reg_alpha=0, reg_lambda=1, scale_pos_weight=1,\n",
    "                              subsample=1, tree_method='exact',\n",
    "                              validate_parameters=1, verbosity=None), threshold=\"median\")\n",
    "select.fit(x_train, y_train)\n",
    "x_train_l1 = select.transform(x_train)\n",
    "x_test_l1 = select.transform(x_test)\n",
    "\n",
    "xgb = XGBRegressor(base_score=0.5, booster='gbtree',\n",
    "                              colsample_bylevel=0.6, colsample_bynode=1,\n",
    "                              colsample_bytree=1, gamma=0, gpu_id=-1,\n",
    "                              importance_type='gain',\n",
    "                              interaction_constraints='', learning_rate=0.1,\n",
    "                              max_delta_step=0, max_depth=3, min_child_weight=3,\n",
    "                              n_estimators=300, n_jobs=0, num_parallel_tree=1,\n",
    "                              objective='reg:squarederror', random_state=0,\n",
    "                              reg_alpha=0, reg_lambda=1, scale_pos_weight=1,\n",
    "                              subsample=1, tree_method='exact',\n",
    "                              validate_parameters=1, verbosity=None)\n",
    "model = xgb.fit(x_train_l1, y_train)\n",
    "y_pred = model.predict(x_test_l1)\n",
    "y_true = y_test\n",
    "score = mean_squared_error(y_true, y_pred, squared = \"False\")\n",
    "print(model.score(x_train_l1, y_train))\n",
    "print(model.score(x_test_l1, y_test))\n",
    "print(\"rmse score :\", score)\n",
    "# 276268410107.90094\n",
    "# 363633401319.6854\n",
    "# 375899270859.8781 age(스케일링)\n",
    "# 294092435283.8894\n",
    "# 1018174751259.2584\n",
    "# 380040234463.18146\n",
    "# 1376838319478.4944\n",
    "# 1330987992728.7683"
   ]
  },
  {
   "cell_type": "code",
   "execution_count": null,
   "metadata": {},
   "outputs": [],
   "source": [
    "# 중요변수 확인 : \n",
    "model.best_estimator_.named_steps[\"regressor\"].feature_importances_\n",
    "plt.figure(figsize = (20,5))\n",
    "sns.barplot(x = list(range(20)), y = model.best_estimator_.named_steps[\"regressor\"].feature_importances_)\n",
    "plt.xticks(list(range(20)), x_train.columns)\n",
    "model.best_estimator_.named_steps[\"regressor\"].feature_importances_"
   ]
  },
  {
   "cell_type": "code",
   "execution_count": 50,
   "metadata": {},
   "outputs": [
    {
     "data": {
      "image/png": "[encoded data removed]",
      "text/plain": [
       "<Figure size 720x360 with 6 Axes>"
      ]
     },
     "metadata": {
      "needs_background": "light"
     },
     "output_type": "display_data"
    }
   ],
   "source": [
    "# 예측치 올리기 위한 전처리\n",
    "index = [\"age\", \"stat_overall\", \"stat_potential\"]\n",
    "fig, ax = plt.subplots(nrows = 2, ncols = 3, figsize = (10,5))\n",
    "\n",
    "\n",
    "for idx, value in enumerate(index):\n",
    "    g = sns.boxplot(train[value], ax = ax[0, idx])\n",
    "    g.set_title(f\"train data {value} boxplot\", color = \"black\")\n",
    "for idx, value in enumerate(index):\n",
    "    g = sns.boxplot(test[value], ax = ax[1, idx])\n",
    "    g.set_title(f\"test data {value} boxplot\", color = \"black\")"
   ]
  },
  {
   "cell_type": "code",
   "execution_count": 138,
   "metadata": {},
   "outputs": [
    {
     "data": {
      "text/html": [
       "<div>\n",
       "<style scoped>\n",
       "    .dataframe tbody tr th:only-of-type {\n",
       "        vertical-align: middle;\n",
       "    }\n",
       "\n",
       "    .dataframe tbody tr th {\n",
       "        vertical-align: top;\n",
       "    }\n",
       "\n",
       "    .dataframe thead th {\n",
       "        text-align: right;\n",
       "    }\n",
       "</style>\n",
       "<table border=\"1\" class=\"dataframe\">\n",
       "  <thead>\n",
       "    <tr style=\"text-align: right;\">\n",
       "      <th></th>\n",
       "      <th>age</th>\n",
       "      <th>continent</th>\n",
       "      <th>contract_until</th>\n",
       "      <th>position</th>\n",
       "      <th>prefer_foot</th>\n",
       "      <th>reputation</th>\n",
       "      <th>stat_overall</th>\n",
       "      <th>stat_potential</th>\n",
       "      <th>stat_skill_moves</th>\n",
       "      <th>value</th>\n",
       "      <th>source</th>\n",
       "    </tr>\n",
       "  </thead>\n",
       "  <tbody>\n",
       "    <tr>\n",
       "      <th>0</th>\n",
       "      <td>31</td>\n",
       "      <td>south america</td>\n",
       "      <td>2021</td>\n",
       "      <td>ST</td>\n",
       "      <td>1</td>\n",
       "      <td>5.0</td>\n",
       "      <td>94</td>\n",
       "      <td>94</td>\n",
       "      <td>4.0</td>\n",
       "      <td>110500000.0</td>\n",
       "      <td>train</td>\n",
       "    </tr>\n",
       "    <tr>\n",
       "      <th>1</th>\n",
       "      <td>27</td>\n",
       "      <td>europe</td>\n",
       "      <td>2020</td>\n",
       "      <td>GK</td>\n",
       "      <td>0</td>\n",
       "      <td>4.0</td>\n",
       "      <td>91</td>\n",
       "      <td>93</td>\n",
       "      <td>1.0</td>\n",
       "      <td>72000000.0</td>\n",
       "      <td>train</td>\n",
       "    </tr>\n",
       "    <tr>\n",
       "      <th>2</th>\n",
       "      <td>31</td>\n",
       "      <td>south america</td>\n",
       "      <td>2021</td>\n",
       "      <td>ST</td>\n",
       "      <td>0</td>\n",
       "      <td>5.0</td>\n",
       "      <td>91</td>\n",
       "      <td>91</td>\n",
       "      <td>3.0</td>\n",
       "      <td>80000000.0</td>\n",
       "      <td>train</td>\n",
       "    </tr>\n",
       "    <tr>\n",
       "      <th>3</th>\n",
       "      <td>32</td>\n",
       "      <td>europe</td>\n",
       "      <td>2020</td>\n",
       "      <td>DF</td>\n",
       "      <td>0</td>\n",
       "      <td>4.0</td>\n",
       "      <td>91</td>\n",
       "      <td>91</td>\n",
       "      <td>3.0</td>\n",
       "      <td>51000000.0</td>\n",
       "      <td>train</td>\n",
       "    </tr>\n",
       "    <tr>\n",
       "      <th>4</th>\n",
       "      <td>25</td>\n",
       "      <td>europe</td>\n",
       "      <td>2021</td>\n",
       "      <td>GK</td>\n",
       "      <td>0</td>\n",
       "      <td>3.0</td>\n",
       "      <td>90</td>\n",
       "      <td>93</td>\n",
       "      <td>1.0</td>\n",
       "      <td>68000000.0</td>\n",
       "      <td>train</td>\n",
       "    </tr>\n",
       "    <tr>\n",
       "      <th>...</th>\n",
       "      <td>...</td>\n",
       "      <td>...</td>\n",
       "      <td>...</td>\n",
       "      <td>...</td>\n",
       "      <td>...</td>\n",
       "      <td>...</td>\n",
       "      <td>...</td>\n",
       "      <td>...</td>\n",
       "      <td>...</td>\n",
       "      <td>...</td>\n",
       "      <td>...</td>\n",
       "    </tr>\n",
       "    <tr>\n",
       "      <th>8927</th>\n",
       "      <td>18</td>\n",
       "      <td>africa</td>\n",
       "      <td>2019</td>\n",
       "      <td>MF</td>\n",
       "      <td>0</td>\n",
       "      <td>1.0</td>\n",
       "      <td>48</td>\n",
       "      <td>63</td>\n",
       "      <td>3.0</td>\n",
       "      <td>60000.0</td>\n",
       "      <td>train</td>\n",
       "    </tr>\n",
       "    <tr>\n",
       "      <th>8928</th>\n",
       "      <td>19</td>\n",
       "      <td>europe</td>\n",
       "      <td>2020</td>\n",
       "      <td>DF</td>\n",
       "      <td>0</td>\n",
       "      <td>1.0</td>\n",
       "      <td>47</td>\n",
       "      <td>59</td>\n",
       "      <td>2.0</td>\n",
       "      <td>40000.0</td>\n",
       "      <td>train</td>\n",
       "    </tr>\n",
       "    <tr>\n",
       "      <th>8929</th>\n",
       "      <td>18</td>\n",
       "      <td>south america</td>\n",
       "      <td>2021</td>\n",
       "      <td>DF</td>\n",
       "      <td>0</td>\n",
       "      <td>1.0</td>\n",
       "      <td>47</td>\n",
       "      <td>64</td>\n",
       "      <td>2.0</td>\n",
       "      <td>50000.0</td>\n",
       "      <td>train</td>\n",
       "    </tr>\n",
       "    <tr>\n",
       "      <th>8930</th>\n",
       "      <td>18</td>\n",
       "      <td>europe</td>\n",
       "      <td>2021</td>\n",
       "      <td>GK</td>\n",
       "      <td>0</td>\n",
       "      <td>1.0</td>\n",
       "      <td>47</td>\n",
       "      <td>65</td>\n",
       "      <td>1.0</td>\n",
       "      <td>50000.0</td>\n",
       "      <td>train</td>\n",
       "    </tr>\n",
       "    <tr>\n",
       "      <th>8931</th>\n",
       "      <td>19</td>\n",
       "      <td>europe</td>\n",
       "      <td>2020</td>\n",
       "      <td>ST</td>\n",
       "      <td>0</td>\n",
       "      <td>1.0</td>\n",
       "      <td>47</td>\n",
       "      <td>63</td>\n",
       "      <td>2.0</td>\n",
       "      <td>60000.0</td>\n",
       "      <td>train</td>\n",
       "    </tr>\n",
       "  </tbody>\n",
       "</table>\n",
       "<p>468 rows × 11 columns</p>\n",
       "</div>"
      ],
      "text/plain": [
       "      age      continent contract_until position  prefer_foot reputation  \\\n",
       "0      31  south america           2021       ST            1        5.0   \n",
       "1      27         europe           2020       GK            0        4.0   \n",
       "2      31  south america           2021       ST            0        5.0   \n",
       "3      32         europe           2020       DF            0        4.0   \n",
       "4      25         europe           2021       GK            0        3.0   \n",
       "...   ...            ...            ...      ...          ...        ...   \n",
       "8927   18         africa           2019       MF            0        1.0   \n",
       "8928   19         europe           2020       DF            0        1.0   \n",
       "8929   18  south america           2021       DF            0        1.0   \n",
       "8930   18         europe           2021       GK            0        1.0   \n",
       "8931   19         europe           2020       ST            0        1.0   \n",
       "\n",
       "      stat_overall  stat_potential  stat_skill_moves        value source  \n",
       "0               94              94               4.0  110500000.0  train  \n",
       "1               91              93               1.0   72000000.0  train  \n",
       "2               91              91               3.0   80000000.0  train  \n",
       "3               91              91               3.0   51000000.0  train  \n",
       "4               90              93               1.0   68000000.0  train  \n",
       "...            ...             ...               ...          ...    ...  \n",
       "8927            48              63               3.0      60000.0  train  \n",
       "8928            47              59               2.0      40000.0  train  \n",
       "8929            47              64               2.0      50000.0  train  \n",
       "8930            47              65               1.0      50000.0  train  \n",
       "8931            47              63               2.0      60000.0  train  \n",
       "\n",
       "[468 rows x 11 columns]"
      ]
     },
     "execution_count": 138,
     "metadata": {},
     "output_type": "execute_result"
    }
   ],
   "source": [
    "train_1q = train[index].describe().loc[\"25%\"]\n",
    "train_3q = train[index].describe().loc[\"75%\"]\n",
    "test_1q = test[index].describe().loc[\"25%\"]\n",
    "test_3q = test[index].describe().loc[\"75%\"]\n",
    "\n",
    "# IQR\n",
    "# index = [\"age\", \"stat_overall\", \"stat_potential\"]\n",
    "train_iqr = train_3q - train_1q\n",
    "test_iqr = test_3q - test_1q\n",
    "\n",
    "# 이상치 제거\n",
    "idx_age = comdata[(comdata[\"age\"] > train_iqr[0] + train_3q[0]) \n",
    "        | (comdata[\"age\"] < train_1q[0] - train_iqr[0])]\n",
    "idx_stat_overall= comdata[(comdata[\"stat_overall\"] > train_iqr[1] + train_3q[1]) \n",
    "        | (comdata[\"stat_overall\"] < train_1q[1] - train_iqr[1])]\n",
    "idx_stat_overall[idx_stat_overall[\"source\"] == \"train\"]"
   ]
  },
  {
   "cell_type": "code",
   "execution_count": 21,
   "metadata": {},
   "outputs": [
    {
     "name": "stdout",
     "output_type": "stream",
     "text": [
      "<class 'pandas.core.frame.DataFrame'>\n",
      "RangeIndex: 3828 entries, 0 to 3827\n",
      "Data columns (total 2 columns):\n",
      " #   Column  Non-Null Count  Dtype  \n",
      "---  ------  --------------  -----  \n",
      " 0   id      3828 non-null   int64  \n",
      " 1   value   3828 non-null   float64\n",
      "dtypes: float64(1), int64(1)\n",
      "memory usage: 59.9 KB\n"
     ]
    }
   ],
   "source": [
    "# 실제 데이터 예측\n",
    "rel_y_pred = model.predict(real_test_dummy[x_col])\n",
    "real_test\n",
    "\n",
    "submit = pd.read_csv(\"../submission.csv\")\n",
    "submit.info()\n",
    "submit[\"value\"] = rel_y_pred\n",
    "submit.head()\n",
    "submit.to_csv(\"../submission.csv\", index = None, encoding = \"utf-8\")\n"
   ]
  },
  {
   "cell_type": "code",
   "execution_count": null,
   "metadata": {},
   "outputs": [],
   "source": [
    "lgb = LGBMRegressor()\n",
    "train_ds = lgb.Dataset(x_train, label = y_train) \n",
    "test_ds = lgb.Dataset(x_test, label = y_test) \n",
    "\n",
    "param_grid = {\n",
    "    'n_estimators': [400, 700, 1000],\n",
    "    'colsample_bytree': [0.7, 0.8],\n",
    "    'max_depth': [15,20,25],\n",
    "    'num_leaves': [50, 100, 200],\n",
    "    'reg_alpha': [1.1, 1.2, 1.3],\n",
    "    'reg_lambda': [1.1, 1.2, 1.3],\n",
    "    'min_split_gain': [0.3, 0.4],\n",
    "    'subsample': [0.7, 0.8, 0.9],\n",
    "    'subsample_freq': [20]\n",
    "}\n",
    "\n",
    "model = lgb.train(param_grid, train_ds, 1000, test_ds, verbose_eval=100, early_stopping_rounds=100)\n",
    "predict_train = model.predict(x_train)\n",
    "predict_test = model.predict(x_test)\n",
    "\n",
    "mse = mean_squared_error(y_test, predict_test)\n",
    "r2 = r2_score(y_test, predict_test)"
   ]
  }
 ],
 "metadata": {
  "kernelspec": {
   "display_name": "Python 3",
   "language": "python",
   "name": "python3"
  },
  "language_info": {
   "codemirror_mode": {
    "name": "ipython",
    "version": 3
   },
   "file_extension": ".py",
   "mimetype": "text/x-python",
   "name": "python",
   "nbconvert_exporter": "python",
   "pygments_lexer": "ipython3",
   "version": "3.7.6"
  }
 },
 "nbformat": 4,
 "nbformat_minor": 4
}
